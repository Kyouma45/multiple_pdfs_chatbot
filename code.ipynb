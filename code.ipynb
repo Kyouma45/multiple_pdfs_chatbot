{
  "nbformat": 4,
  "nbformat_minor": 0,
  "metadata": {
    "colab": {
      "provenance": [],
      "gpuType": "V28"
    },
    "kernelspec": {
      "name": "python3",
      "display_name": "Python 3"
    },
    "language_info": {
      "name": "python"
    },
    "accelerator": "TPU"
  },
  "cells": [
    {
      "cell_type": "code",
      "source": [
        "#install all the necessary libraries\n",
        "!pip install -q Pypdf2 langchain langchain-google-genai faiss-gpu nltk"
      ],
      "metadata": {
        "colab": {
          "base_uri": "https://localhost:8080/"
        },
        "id": "c0sGb-INTCui",
        "outputId": "acfb6faa-fe9e-482e-ab96-b849cb8071e3"
      },
      "execution_count": null,
      "outputs": [
        {
          "output_type": "stream",
          "name": "stdout",
          "text": [
            "\u001b[2K     \u001b[90m━━━━━━━━━━━━━━━━━━━━━━━━━━━━━━━━━━━━━━━━\u001b[0m \u001b[32m232.6/232.6 kB\u001b[0m \u001b[31m2.4 MB/s\u001b[0m eta \u001b[36m0:00:00\u001b[0m\n",
            "\u001b[2K     \u001b[90m━━━━━━━━━━━━━━━━━━━━━━━━━━━━━━━━━━━━━━━━\u001b[0m \u001b[32m812.8/812.8 kB\u001b[0m \u001b[31m10.2 MB/s\u001b[0m eta \u001b[36m0:00:00\u001b[0m\n",
            "\u001b[2K     \u001b[90m━━━━━━━━━━━━━━━━━━━━━━━━━━━━━━━━━━━━━━━━\u001b[0m \u001b[32m85.5/85.5 MB\u001b[0m \u001b[31m10.4 MB/s\u001b[0m eta \u001b[36m0:00:00\u001b[0m\n",
            "\u001b[2K     \u001b[90m━━━━━━━━━━━━━━━━━━━━━━━━━━━━━━━━━━━━━━━━\u001b[0m \u001b[32m3.1/3.1 MB\u001b[0m \u001b[31m11.4 MB/s\u001b[0m eta \u001b[36m0:00:00\u001b[0m\n",
            "\u001b[2K     \u001b[90m━━━━━━━━━━━━━━━━━━━━━━━━━━━━━━━━━━━━━━━━\u001b[0m \u001b[32m1.2/1.2 MB\u001b[0m \u001b[31m54.3 MB/s\u001b[0m eta \u001b[36m0:00:00\u001b[0m\n",
            "\u001b[2K     \u001b[90m━━━━━━━━━━━━━━━━━━━━━━━━━━━━━━━━━━━━━━━━\u001b[0m \u001b[32m1.9/1.9 MB\u001b[0m \u001b[31m72.0 MB/s\u001b[0m eta \u001b[36m0:00:00\u001b[0m\n",
            "\u001b[2K     \u001b[90m━━━━━━━━━━━━━━━━━━━━━━━━━━━━━━━━━━━━━━━━\u001b[0m \u001b[32m276.8/276.8 kB\u001b[0m \u001b[31m23.6 MB/s\u001b[0m eta \u001b[36m0:00:00\u001b[0m\n",
            "\u001b[2K     \u001b[90m━━━━━━━━━━━━━━━━━━━━━━━━━━━━━━━━━━━━━━━━\u001b[0m \u001b[32m87.5/87.5 kB\u001b[0m \u001b[31m8.5 MB/s\u001b[0m eta \u001b[36m0:00:00\u001b[0m\n",
            "\u001b[2K     \u001b[90m━━━━━━━━━━━━━━━━━━━━━━━━━━━━━━━━━━━━━━━━\u001b[0m \u001b[32m137.4/137.4 kB\u001b[0m \u001b[31m14.4 MB/s\u001b[0m eta \u001b[36m0:00:00\u001b[0m\n",
            "\u001b[2K     \u001b[90m━━━━━━━━━━━━━━━━━━━━━━━━━━━━━━━━━━━━━━━━\u001b[0m \u001b[32m239.5/239.5 kB\u001b[0m \u001b[31m19.1 MB/s\u001b[0m eta \u001b[36m0:00:00\u001b[0m\n",
            "\u001b[2K     \u001b[90m━━━━━━━━━━━━━━━━━━━━━━━━━━━━━━━━━━━━━━━━\u001b[0m \u001b[32m124.3/124.3 kB\u001b[0m \u001b[31m10.4 MB/s\u001b[0m eta \u001b[36m0:00:00\u001b[0m\n",
            "\u001b[2K     \u001b[90m━━━━━━━━━━━━━━━━━━━━━━━━━━━━━━━━━━━━━━━━\u001b[0m \u001b[32m301.6/301.6 kB\u001b[0m \u001b[31m29.3 MB/s\u001b[0m eta \u001b[36m0:00:00\u001b[0m\n",
            "\u001b[2K     \u001b[90m━━━━━━━━━━━━━━━━━━━━━━━━━━━━━━━━━━━━━━━━\u001b[0m \u001b[32m49.4/49.4 kB\u001b[0m \u001b[31m5.2 MB/s\u001b[0m eta \u001b[36m0:00:00\u001b[0m\n",
            "\u001b[2K     \u001b[90m━━━━━━━━━━━━━━━━━━━━━━━━━━━━━━━━━━━━━━━━\u001b[0m \u001b[32m598.7/598.7 kB\u001b[0m \u001b[31m41.8 MB/s\u001b[0m eta \u001b[36m0:00:00\u001b[0m\n",
            "\u001b[2K     \u001b[90m━━━━━━━━━━━━━━━━━━━━━━━━━━━━━━━━━━━━━━━━\u001b[0m \u001b[32m48.8/48.8 kB\u001b[0m \u001b[31m5.3 MB/s\u001b[0m eta \u001b[36m0:00:00\u001b[0m\n",
            "\u001b[2K     \u001b[90m━━━━━━━━━━━━━━━━━━━━━━━━━━━━━━━━━━━━━━━━\u001b[0m \u001b[32m53.0/53.0 kB\u001b[0m \u001b[31m5.8 MB/s\u001b[0m eta \u001b[36m0:00:00\u001b[0m\n",
            "\u001b[2K     \u001b[90m━━━━━━━━━━━━━━━━━━━━━━━━━━━━━━━━━━━━━━━━\u001b[0m \u001b[32m144.8/144.8 kB\u001b[0m \u001b[31m1.8 MB/s\u001b[0m eta \u001b[36m0:00:00\u001b[0m\n",
            "\u001b[2K     \u001b[90m━━━━━━━━━━━━━━━━━━━━━━━━━━━━━━━━━━━━━━━━\u001b[0m \u001b[32m616.0/616.0 kB\u001b[0m \u001b[31m36.8 MB/s\u001b[0m eta \u001b[36m0:00:00\u001b[0m\n",
            "\u001b[?25h"
          ]
        }
      ]
    },
    {
      "cell_type": "code",
      "source": [
        "#mount google drive to load documents\n",
        "from google.colab import drive\n",
        "drive.mount('/content/drive')"
      ],
      "metadata": {
        "colab": {
          "base_uri": "https://localhost:8080/"
        },
        "id": "K9MKFNZtZIuO",
        "outputId": "94cae8bf-a35a-4c57-dd3d-0f2024941a88"
      },
      "execution_count": null,
      "outputs": [
        {
          "output_type": "stream",
          "name": "stdout",
          "text": [
            "Drive already mounted at /content/drive; to attempt to forcibly remount, call drive.mount(\"/content/drive\", force_remount=True).\n"
          ]
        }
      ]
    },
    {
      "cell_type": "code",
      "execution_count": null,
      "metadata": {
        "id": "X8UjTjmlSksf",
        "colab": {
          "base_uri": "https://localhost:8080/"
        },
        "outputId": "4b7bffdb-637e-4c57-bb4a-e955dccfb0a7"
      },
      "outputs": [
        {
          "output_type": "stream",
          "name": "stderr",
          "text": [
            "[nltk_data] Downloading package stopwords to /root/nltk_data...\n",
            "[nltk_data]   Package stopwords is already up-to-date!\n",
            "[nltk_data] Downloading package punkt to /root/nltk_data...\n",
            "[nltk_data]   Package punkt is already up-to-date!\n",
            "[nltk_data] Downloading package words to /root/nltk_data...\n",
            "[nltk_data]   Package words is already up-to-date!\n"
          ]
        }
      ],
      "source": [
        "#import all the important packages\n",
        "from PyPDF2 import PdfReader\n",
        "from langchain.text_splitter import RecursiveCharacterTextSplitter\n",
        "import os\n",
        "from langchain_google_genai import GoogleGenerativeAIEmbeddings\n",
        "import google.generativeai as genai\n",
        "from langchain.vectorstores import FAISS\n",
        "from langchain_google_genai import (\n",
        "    ChatGoogleGenerativeAI,\n",
        "    HarmBlockThreshold,\n",
        "    HarmCategory,\n",
        ")\n",
        "from langchain.chains.question_answering import load_qa_chain\n",
        "from langchain.prompts import PromptTemplate\n",
        "import re\n",
        "import nltk\n",
        "from nltk.corpus import stopwords\n",
        "from nltk.stem.porter import PorterStemmer\n",
        "nltk.download('stopwords')\n",
        "nltk.download('punkt')\n",
        "import string\n",
        "nltk.download('words')\n",
        "from nltk.corpus import words"
      ]
    },
    {
      "cell_type": "code",
      "source": [
        "#enter your gemini api key\n",
        "genai.configure(api_key='')\n",
        "os.environ[\"GOOGLE_API_KEY\"]=\"\""
      ],
      "metadata": {
        "id": "_BI7GtysTjrf"
      },
      "execution_count": null,
      "outputs": []
    },
    {
      "cell_type": "code",
      "source": [
        "#returns text from all the documents\n",
        "def get_pdf_text(pdf_docs):\n",
        "    text=\"\"\n",
        "    for pdf in pdf_docs:\n",
        "        pdf_reader= PdfReader(pdf,strict=False)\n",
        "        for page in pdf_reader.pages:\n",
        "            text+= page.extract_text()\n",
        "    return  text"
      ],
      "metadata": {
        "id": "3_hjPRbif5So"
      },
      "execution_count": null,
      "outputs": []
    },
    {
      "cell_type": "code",
      "source": [
        "#preprocessing the texts\n",
        "def text_preprocessing(text:str):\n",
        "    #convert lower case and remove all the links and citations\n",
        "    text=text.lower()\n",
        "    text=text.replace('\\n',' ')\n",
        "    text=re.sub(r'www\\S+',' ',text)\n",
        "    text=re.sub(r'http\\S+',' ',text)\n",
        "    text=re.sub(r'\\S+@\\S+',' ',text)\n",
        "    text=re.sub(r'[^a-zA-Z0-9\\s]',' ',text)\n",
        "    text=re.sub(r'\\[0-9,\\]','',text)\n",
        "\n",
        "    #removing the sentences which do not contain any stopwords\n",
        "    temp=nltk.sent_tokenize(text)\n",
        "    k=[]\n",
        "    for i in temp:\n",
        "        for word in i:\n",
        "            if word in stopwords.words('english'):\n",
        "                k.append(i)\n",
        "                break\n",
        "\n",
        "    text=' '.join(k)\n",
        "\n",
        "    text=nltk.word_tokenize(text)\n",
        "\n",
        "    #removing all the digits and alphanumeric words\n",
        "    y=[]\n",
        "    for i in text:\n",
        "        #if i.isdigit():\n",
        "            #y.append(i)\n",
        "        #elif i.isalnum():\n",
        "            #y.append(i)\n",
        "        if i.isalpha():\n",
        "            if i in words.words():\n",
        "                y.append(i)\n",
        "\n",
        "    text.clear()\n",
        "    #remove stopwords and punctuation\n",
        "    for i in y:\n",
        "        if i not in stopwords.words('english') and i not in string.punctuation:\n",
        "            text.append(i)\n",
        "    y.clear()\n",
        "\n",
        "    #applying stemming\n",
        "    ps=PorterStemmer()\n",
        "    for i in text:\n",
        "        y.append(ps.stem(i))\n",
        "\n",
        "    text=\" \".join(y)\n",
        "    text=re.sub('\\s[a-z]\\s','',text)\n",
        "    return text"
      ],
      "metadata": {
        "id": "2YBqUZsziCLX"
      },
      "execution_count": null,
      "outputs": []
    },
    {
      "cell_type": "code",
      "source": [
        "#dividing text into chunks\n",
        "def get_text_chunks(text):\n",
        "    text_splitter = RecursiveCharacterTextSplitter(chunk_size=1000, chunk_overlap=100)\n",
        "    chunks = text_splitter.split_text(text)\n",
        "    return chunks"
      ],
      "metadata": {
        "id": "WUxEedGZiI0R"
      },
      "execution_count": null,
      "outputs": []
    },
    {
      "cell_type": "code",
      "source": [
        "#storing data in FAISS after converting into embeddings\n",
        "def get_vector_store(text_chunks):\n",
        "    embeddings = GoogleGenerativeAIEmbeddings(model = \"models/embedding-001\")\n",
        "    vector_store = FAISS.from_texts(text_chunks, embedding=embeddings)\n",
        "    vector_store.save_local(\"temp\")"
      ],
      "metadata": {
        "id": "MJEAyeCrDMfH"
      },
      "execution_count": null,
      "outputs": []
    },
    {
      "cell_type": "code",
      "source": [
        "#loading the model with prompt\n",
        "def get_conversational_chain():\n",
        "\n",
        "    prompt_template = \"\"\"\n",
        "    Answer the question as detailed as possible from the provided context, make sure to provide all the details\\n\\n\n",
        "    Context:\\n {context}?\\n\n",
        "    Question: \\n{question}\\n\n",
        "\n",
        "    Answer:\n",
        "    \"\"\"\n",
        "\n",
        "    model = ChatGoogleGenerativeAI(model=\"gemini-pro\",\n",
        "                             temperature=0.5,safety_settings={\n",
        "        HarmCategory.HARM_CATEGORY_HATE_SPEECH: HarmBlockThreshold.BLOCK_NONE,\n",
        "        HarmCategory.HARM_CATEGORY_HARASSMENT: HarmBlockThreshold.BLOCK_NONE,\n",
        "    })\n",
        "\n",
        "    prompt = PromptTemplate(template = prompt_template, input_variables = [\"context\", \"question\"])\n",
        "    chain = load_qa_chain(model, chain_type=\"stuff\", prompt=prompt)\n",
        "\n",
        "    return chain"
      ],
      "metadata": {
        "id": "JkrkY4JEDO-f"
      },
      "execution_count": null,
      "outputs": []
    },
    {
      "cell_type": "code",
      "source": [
        "def user_input(user_question):\n",
        "    embeddings = GoogleGenerativeAIEmbeddings(model = \"models/embedding-001\")\n",
        "\n",
        "    #retiriving similar data from the FAISS database\n",
        "    new_db = FAISS.load_local(\"temp\", embeddings, allow_dangerous_deserialization=True)\n",
        "    docs = new_db.similarity_search(user_question,k=5)\n",
        "\n",
        "    chain = get_conversational_chain()\n",
        "\n",
        "    #input in gemini\n",
        "    response = chain(\n",
        "        {\"input_documents\":docs, \"question\": user_question}\n",
        "        , return_only_outputs=True)\n",
        "\n",
        "    print(response)"
      ],
      "metadata": {
        "id": "9X_Xko5ZEZ1w"
      },
      "execution_count": null,
      "outputs": []
    },
    {
      "cell_type": "code",
      "source": [
        "pdf_docs=['/content/drive/MyDrive/Cognite/Abbas_2018.pdf','/content/drive/MyDrive/Cognite/1_Ramırez-Duque_.pdf','/content/drive/MyDrive/Cognite/15_Nazneen.pdf','/content/drive/MyDrive/Cognite/Abbas_2020.pdf'\n",
        ",'/content/drive/MyDrive/Cognite/LEE.pdf','/content/drive/MyDrive/Cognite/carpenter2020 (1).pdf','/content/drive/MyDrive/Cognite/zhao2020.pdf','/content/drive/MyDrive/Cognite/Tariq_2019.pdf','/content/drive/MyDrive/Cognite/Asd_Cry_patterns.pdf'\n",
        ",'/content/drive/MyDrive/Cognite/Patten_Audio.pdf','/content/drive/MyDrive/Cognite/Dawson.pdf','/content/drive/MyDrive/Cognite/22_Ouss_ASD.pdf','/content/drive/MyDrive/Cognite/Tariq2018.pdf','/content/drive/MyDrive/Cognite/Qiu.pdf'\n",
        ",'/content/drive/MyDrive/Cognite/Young_Behavior.pdf']\n",
        "\n",
        "raw_text = get_pdf_text(pdf_docs)\n"
      ],
      "metadata": {
        "id": "V2uUCIcSFW8f",
        "colab": {
          "base_uri": "https://localhost:8080/"
        },
        "outputId": "b5592603-2666-428a-9e2e-1c723c78a60d"
      },
      "execution_count": null,
      "outputs": [
        {
          "output_type": "stream",
          "name": "stderr",
          "text": [
            "WARNING:PyPDF2.generic._data_structures:Multiple definitions in dictionary at byte 0x1cc6b for key /MediaBox\n",
            "WARNING:PyPDF2.generic._data_structures:Multiple definitions in dictionary at byte 0x1ce61 for key /MediaBox\n",
            "WARNING:PyPDF2.generic._data_structures:Multiple definitions in dictionary at byte 0x1d014 for key /MediaBox\n",
            "WARNING:PyPDF2.generic._data_structures:Multiple definitions in dictionary at byte 0x1d1ae for key /MediaBox\n",
            "WARNING:PyPDF2.generic._data_structures:Multiple definitions in dictionary at byte 0x1d33d for key /MediaBox\n",
            "WARNING:PyPDF2.generic._data_structures:Multiple definitions in dictionary at byte 0x1d4af for key /MediaBox\n",
            "WARNING:PyPDF2.generic._data_structures:Multiple definitions in dictionary at byte 0x1d699 for key /MediaBox\n",
            "WARNING:PyPDF2.generic._data_structures:Multiple definitions in dictionary at byte 0x1d85b for key /MediaBox\n",
            "WARNING:PyPDF2.generic._data_structures:Multiple definitions in dictionary at byte 0x1db05 for key /MediaBox\n"
          ]
        }
      ]
    },
    {
      "cell_type": "code",
      "source": [
        "processed_text=text_preprocessing(raw_text)\n",
        "text_chunks = get_text_chunks(processed_text)\n",
        "get_vector_store(text_chunks)"
      ],
      "metadata": {
        "id": "K5WsRDhBDq1Y"
      },
      "execution_count": null,
      "outputs": []
    },
    {
      "cell_type": "code",
      "source": [
        "embeddings = GoogleGenerativeAIEmbeddings(model = \"models/embedding-001\")\n",
        "new_db = FAISS.load_local(\"temp\", embeddings, allow_dangerous_deserialization=True)"
      ],
      "metadata": {
        "id": "RuXvOyYhFccf"
      },
      "execution_count": null,
      "outputs": []
    },
    {
      "cell_type": "markdown",
      "source": [
        "Query 1"
      ],
      "metadata": {
        "id": "dsv_bSBcHn1o"
      }
    },
    {
      "cell_type": "code",
      "source": [
        "new_db.similarity_search('What are the variety of Multimodal and Multi-modular AI Approaches to Streamline Autism Diagnosis in Young Children',k=5)"
      ],
      "metadata": {
        "colab": {
          "base_uri": "https://localhost:8080/"
        },
        "id": "s-b1DVRCFOQm",
        "outputId": "59574340-d6c6-48cf-f652-4603c4e6f2be"
      },
      "execution_count": null,
      "outputs": [
        {
          "output_type": "execute_result",
          "data": {
            "text/plain": [
              "[Document(page_content='research machin learn approach earli detect autism combin questionnair home video screen abba gloveralto ca pediatr univers ca data scienc univers ca correspond alto ca receiv march editori decis march accept abstract background screen earli detect autism expens cumbersom time intens sometim fall short predict valu work sought appli machin learn clinic data across risk autism spectrum disord creat alow cost quick easi appli autism screen tool two train identifi autism one base short structur parent key short semi structur home binat algorithm use combin singl assess higher accuraci come scarciti sparsiti imbal train data appli novel featur select featur allow inconclus determin appropri boost screen accuraci conclus perform center clinic studiascertain perform combin demonstr cant accuraci improv standard screen ing sensit citi conclus suggest mobil machin learn process reliabl method detect autism outsid clinic varieti confound clinic analysi final statist limit bene fu clinic extend'),\n",
              " Document(page_content='without notic springer natur may revok time remov access springer natur journal content save extent permit law springer natur either express respect springer natur journal content disclaim waiv law fit particular purpos pleas note automat extend content data materi springer natur may licens third would like use distribut springer natur journal content audienc regular basi manner expressli permit pleas contact springer natur scientif ai approach streamlin autism diagnosi young abba ford ericwall autism becom press challeng use aid diagnosi time labor expens requir train administ lead long wait time risk present modular machin learn base assess autism three complementari unifi outcom diagnost grade reliabl minut parent report questionnair via mobil list key minut semi structur home minut questionnair clinician time clinic assess demonstr assess reliabl blind site clinic studi ageunit specif oper sensit less age assess accur specif oper sensit idiopath autism spectrum disord known biolog'),\n",
              " Document(page_content='languag evid normal autism asperg syndrom visual cognit vol deer autism research institut report develop autism educ rehabilit industri china hous facial autism facial facial express recognit base depth learn southeast universresearch face express recognit base kernel universresearch progress etiolog treatment autism scienc life scienc volargument basic cognit emot vol research facial express recognit method base featur fusion univers lideep facial express recognit survey preprintx summari research facial express recognit autist modern special educ voljjextend complet action unit emot express comput societi confer comput vision pattern recognit commun without commun theori volb research implement real time face express recognit method inform technolog vol organh classif mental clinic diagnost world health organ genevadiagnost statist manual mental encyclopedia psycholog volz dingcomput facial express recognit train improv facial express recognit abil autist tech horizon vol singhnandi'),\n",
              " Document(page_content='interact autism spectrum disord convolut neural network robot reason model statist shape model research child robot interact provid necessari interact child devic take account fundament child physic condit child mental health robot rat interest intervent faster signific gain therapeut intervent tradit disord peopl birth found earli es ram feder period suffer exhibit persist social commun social interact repetit behavior may age although reliabl diagnosi age accord accord use comput vision analyz child video summar help reduc delay diagnosi provid access earli therapeut addit base intervent transform tradit diagnosi devic systemat elicit child exhibit first assist make diagnosi base primarili open loop remot howev unabl perform autonom feedback enhanc interact content courtesi springer natur use appli reserv nevertheless differ abl modifi behavior robot accord environment child respons close loop artifici cognit offer technolog support flexibl potenti naturalist interact fact literatur'),\n",
              " Document(page_content='progress earli detect treatment autism developkj smithcarpentg atyp control via comput vision analysi autism spectrum disordg hill spencerl affect young autist journal abnorm child psychologg potenti digit behavior measur transform detect autism spectrum disord jama pediatrkjj earli social attent autism social joint attent attent development psycholog de lawf dingj intern confer automat face gestur recognittwo way street automat emot moral journal experiment child eggerlj carpentlkautomat emot attent analysi young home autism feasibl studi digit medicinreveal new york timeface basic appli stud spontan express facial action new york univers presshlnposit affect infant autism journal abnorm child psychologc random sampl paradigm model imag analysi cartographi machinerideceit facial express role poker face child depend person detector psychologljoint initi without posit affect risk group journal developmentlordautism diagnost observ schedul diagnost valid journal autism develop mental')]"
            ]
          },
          "metadata": {},
          "execution_count": 13
        }
      ]
    },
    {
      "cell_type": "code",
      "source": [
        "query='What are the variety of Multimodal and Multi-modular AI Approaches to Streamline Autism Diagnosis in Young Children'\n",
        "user_input(text_preprocessing(query))"
      ],
      "metadata": {
        "colab": {
          "base_uri": "https://localhost:8080/"
        },
        "id": "FKoe5dI8-6Y3",
        "outputId": "da9b2c38-f126-4828-c105-96f11671ab20"
      },
      "execution_count": null,
      "outputs": [
        {
          "output_type": "stream",
          "name": "stderr",
          "text": [
            "/usr/local/lib/python3.10/dist-packages/langchain_core/_api/deprecation.py:117: LangChainDeprecationWarning: The function `__call__` was deprecated in LangChain 0.1.0 and will be removed in 0.2.0. Use invoke instead.\n",
            "  warn_deprecated(\n"
          ]
        },
        {
          "output_type": "stream",
          "name": "stdout",
          "text": [
            "{'output_text': \"- **Modular machine learning-based assessment of autism:** This approach involves using machine learning algorithms to analyze data from multiple sources, such as parent reports, clinician observations, and home videos, to assess autism symptoms. This can help to streamline the diagnostic process and make it more efficient.\\n\\n- **Three complementary, unified outcomes:** This approach combines the results of the three different assessment methods (parent report, clinician observation, and home video) to create a more comprehensive and reliable diagnosis.\\n\\n- **Reliable in minutes:** This approach can provide a reliable diagnosis in just a few minutes, which can significantly reduce the time it takes to get a diagnosis.\\n\\n- **Parent report questionnaire via mobile:** This approach allows parents to complete a questionnaire about their child's symptoms on their mobile phone, which can make the diagnostic process more convenient and accessible.\\n\\n- **Semi-structured home video:** This approach involves recording a short video of the child at home, which can provide valuable information about their symptoms.\\n\\n- **Clinician time in clinic assessment:** This approach involves the clinician observing the child in a clinical setting, which can provide additional information about their symptoms.\\n\\n- **Demonstrated assessment reliability:** This approach has been shown to be reliable in a blind site clinic study, which means that the clinicians who made the diagnoses were not aware of the child's diagnosis.\\n\\n- **Age-unit specific operat sensit:** This approach has been shown to be sensitive to autism symptoms across different age groups.\\n\\n- **Less age assessment inaccuracy:** This approach has been shown to be less likely to misdiagnose autism in children of different ages.\\n\\n- **Idiopath autism spectrum disord known biolog:** This approach has been shown to be able to identify children with idiopathic autism spectrum disorder, which is a type of autism that does not have a known biological cause.\"}\n"
          ]
        }
      ]
    },
    {
      "cell_type": "markdown",
      "source": [
        "#Query 2"
      ],
      "metadata": {
        "id": "3I9BEMzyHZww"
      }
    },
    {
      "cell_type": "code",
      "source": [
        "new_db.similarity_search('What is Autism Spectrum Disorder, how it is caysed?',k=5)"
      ],
      "metadata": {
        "colab": {
          "base_uri": "https://localhost:8080/"
        },
        "id": "05pxfEuHFONv",
        "outputId": "b1334326-4279-4dd5-b690-1f26eabaf5cb"
      },
      "execution_count": null,
      "outputs": [
        {
          "output_type": "execute_result",
          "data": {
            "text/plain": [
              "[Document(page_content='exampl articl diagnos autism facial autism facial express diagnosi autism develop autism disord collect autism spectrum disord al sinc child psychiatrist first autism incid autism risen rapidli everi peopl diseas everi diseas accord nation center health statist probabl autism among age unit percent al statist survey autist china howev accord data report develop china autism educ rehabilit industri number peopl autism china exceed million million autist time grow rate nearli annual deer autism research institut autism seriou financi burden societi famili autist one hand spend lot time work reduc work incom reduc hand cost famili rehabilit treatment autist huge famili financi burden accord survey occup econom burden preschool autist percent autist serious affect annual incom significantli lower ordinari averag loss incom yuan per year meanwhil averag annual cost autist educ train significantli higher ordinari yang wang societi govern also need invest lot money rehabilit educ autist time'),\n",
              " Document(page_content='autism development morganself regul affect express play autism syndrom short term longitudin studi journal developmentggoldtrace tempor autism spectrum diagnosi sever measur diagnost observ schedul systemat meta analysi onecarpentlborgg comput vision analysi atyp attent autism autismcarpentljg use digit autism follow improv qualiti screen autism pediatrhalln swain techali whitegroup facial emot express autism evid machin cation behavior therapi changc linj librari support vector intellig technologjvjpreval autism spectrum disord among chil age autism development network unitdyadic triadic infanc later social respons autist disord journal autism carpent al digit behavioryoungp earli autist disord video analysi journal autism developmentearli develop joint attent autist disord parent interview journal developmentreduc facial muscl move autism evid dysfunct pathway brain cognitr quarter centuri progress earli detect treatment autism developkj smithcarpentg atyp control via comput vision'),\n",
              " Document(page_content='oper sensit less age assess accur specif oper sensit idiopath autism spectrum disord known biolog caus may correspond multipl similar incid recent accord latest clinic accord standard child social behavior autism said spectrum due vari rang rel mild social impair intellectu chang sever sensori approxim autist non verbal sever notabl diagnosi within first life dramat outlook autism treatment key window development unfortun latest show although autism development chil age median age diagnosi unit complex diagnost shortag train result get earli enough receiv behavior time effect autism unit gener two development screen prehens diagnost evalu screen posit screen typic use parent teacher gener easi inexpens administ use flag risk howev alway accur enough help inform standard autism also high fals posit rate lead unnecessari comprehens diagnost evalu hand accur requir long expens highli train paper present two previous autism assess underli first modul base brief questionnair child directli'),\n",
              " Document(page_content='al home video detect may help studi interact becom autiste ibap induct one level decis machin learn ninth intern workshopmorgan san ca wanal qualiti interact risk associ year autism outcomchild psychiatrial infant dyadic earli commun base screen autism spectrum disord grid one greenal parent versu intervent high risk autism parallel singl blind trial lancet psychiatri purpuraal bilater repetit month old autism spectrum fronthtaeeehassoci autism high risk pilot sibl samplautism dev morganbarber repetit stereotyp move autism late second year lifechild psychiatrial repetit month later autism spectrum disordchild psychiatrij al longitudin repetit behavior autismchild psychiatrial gener autism spectrum dileuhprrlrlne motor grasp month old high risk autism child deval social commun risk autism gaze follow attent engagautism devlbhtawush ugceulface scan typic atyp develop soc affectnwleoepresent declin month old later autism naturururghrkluemhvocal productchild psychiatriekfvrjnlerpr'),\n",
              " Document(page_content='statist manual mental psychiatr associpattenklg sensori respons nonverb autism treatr quarter centuri progress earli detect treatment autism spectrum disord deval trial intervent autism earli start model pediatrfosterpeacockwhittl wait time explor minim delay initi concern diagnosi treatment autism spectrum disord northmao enautism spectrum primari care practitionmanual preschool cent child youth famscreen accuraci level autism spectrum disord rate scale review select autismmeasur screen diagnost autism spectrum research child mental heal lordrutter autism diagnost interview version diagnost interview possibl pervas developmentautism dev lordal autism diagnost observ schedul standard observ commun social behaviorautism dev abbaf gloverwallmachin learn approach earli detect autism combin questionnair home video screenel real st alto ca walldalliljuse artifici intellig shorten behavior diagnosi autism one lordal studi clinic diagnosi differ autism spectrum arch gen psychiatri')]"
            ]
          },
          "metadata": {},
          "execution_count": 15
        }
      ]
    },
    {
      "cell_type": "code",
      "source": [
        "query='What is Autism Spectrum Disorder, how it is caysed?'\n",
        "user_input(text_preprocessing(query))"
      ],
      "metadata": {
        "colab": {
          "base_uri": "https://localhost:8080/"
        },
        "id": "B2TW6TQw_dCu",
        "outputId": "5300f73c-52d6-4e5e-c170-1a2d0ada25f9"
      },
      "execution_count": null,
      "outputs": [
        {
          "output_type": "stream",
          "name": "stdout",
          "text": [
            "{'output_text': \"Autism spectrum disorder (ASD) is a complex developmental disorder that affects a person's ability to communicate and interact with others. It is characterized by difficulties with social interaction, repetitive behaviors, and restricted interests. ASD can range in severity from mild to severe, and it can affect people of all ages.\\n\\nThe exact cause of ASD is unknown, but it is thought to be caused by a combination of genetic and environmental factors. ASD is often diagnosed in early childhood, but it can also be diagnosed in adulthood. There is no cure for ASD, but there are treatments that can help to improve symptoms and quality of life.\"}\n"
          ]
        }
      ]
    },
    {
      "cell_type": "markdown",
      "source": [
        "Query 3"
      ],
      "metadata": {
        "id": "sU1lcTLMHzmw"
      }
    },
    {
      "cell_type": "code",
      "source": [
        "new_db.similarity_search('What is the cure of Autism Spectrum Disorder',k=5)"
      ],
      "metadata": {
        "colab": {
          "base_uri": "https://localhost:8080/"
        },
        "id": "nIkPN-7HFOH-",
        "outputId": "6ce71a8d-e7d1-41e3-8992-df547d9cfae2"
      },
      "execution_count": null,
      "outputs": [
        {
          "output_type": "execute_result",
          "data": {
            "text/plain": [
              "[Document(page_content='autism development morganself regul affect express play autism syndrom short term longitudin studi journal developmentggoldtrace tempor autism spectrum diagnosi sever measur diagnost observ schedul systemat meta analysi onecarpentlborgg comput vision analysi atyp attent autism autismcarpentljg use digit autism follow improv qualiti screen autism pediatrhalln swain techali whitegroup facial emot express autism evid machin cation behavior therapi changc linj librari support vector intellig technologjvjpreval autism spectrum disord among chil age autism development network unitdyadic triadic infanc later social respons autist disord journal autism carpent al digit behavioryoungp earli autist disord video analysi journal autism developmentearli develop joint attent autist disord parent interview journal developmentreduc facial muscl move autism evid dysfunct pathway brain cognitr quarter centuri progress earli detect treatment autism developkj smithcarpentg atyp control via comput vision'),\n",
              " Document(page_content='statist manual mental psychiatr associpattenklg sensori respons nonverb autism treatr quarter centuri progress earli detect treatment autism spectrum disord deval trial intervent autism earli start model pediatrfosterpeacockwhittl wait time explor minim delay initi concern diagnosi treatment autism spectrum disord northmao enautism spectrum primari care practitionmanual preschool cent child youth famscreen accuraci level autism spectrum disord rate scale review select autismmeasur screen diagnost autism spectrum research child mental heal lordrutter autism diagnost interview version diagnost interview possibl pervas developmentautism dev lordal autism diagnost observ schedul standard observ commun social behaviorautism dev abbaf gloverwallmachin learn approach earli detect autism combin questionnair home video screenel real st alto ca walldalliljuse artifici intellig shorten behavior diagnosi autism one lordal studi clinic diagnosi differ autism spectrum arch gen psychiatri'),\n",
              " Document(page_content='progress earli detect treatment autism developkj smithcarpentg atyp control via comput vision analysi autism spectrum disordg hill spencerl affect young autist journal abnorm child psychologg potenti digit behavior measur transform detect autism spectrum disord jama pediatrkjj earli social attent autism social joint attent attent development psycholog de lawf dingj intern confer automat face gestur recognittwo way street automat emot moral journal experiment child eggerlj carpentlkautomat emot attent analysi young home autism feasibl studi digit medicinreveal new york timeface basic appli stud spontan express facial action new york univers presshlnposit affect infant autism journal abnorm child psychologc random sampl paradigm model imag analysi cartographi machinerideceit facial express role poker face child depend person detector psychologljoint initi without posit affect risk group journal developmentlordautism diagnost observ schedul diagnost valid journal autism develop mental'),\n",
              " Document(page_content='oper sensit less age assess accur specif oper sensit idiopath autism spectrum disord known biolog caus may correspond multipl similar incid recent accord latest clinic accord standard child social behavior autism said spectrum due vari rang rel mild social impair intellectu chang sever sensori approxim autist non verbal sever notabl diagnosi within first life dramat outlook autism treatment key window development unfortun latest show although autism development chil age median age diagnosi unit complex diagnost shortag train result get earli enough receiv behavior time effect autism unit gener two development screen prehens diagnost evalu screen posit screen typic use parent teacher gener easi inexpens administ use flag risk howev alway accur enough help inform standard autism also high fals posit rate lead unnecessari comprehens diagnost evalu hand accur requir long expens highli train paper present two previous autism assess underli first modul base brief questionnair child directli'),\n",
              " Document(page_content='autism outsid clinic varieti confound clinic analysi final statist limit bene fu clinic extend sampl size key machin learn autism spectrum disord diagnost mobil introduct diagnosi within first life dramat outlook autism treatment child brain still rapidli autism typic age unit undiagnos age delay diagnosi driven primarili lack effect screen shortag evalu risk higher accuraci screen seen therefor essenti autism use today base parent medic practition produc pare sum answer autism chat base screen tool autism intend development child parent screen question question given equal weight total determin threshold child consid high risk author univers press behalf medic associ reserv pleas medic associ advanc access public date may research case multipl scale base upon correspond differ autism spectrum scale use perform paper paper present two new machin learn reliabl cost effect short enough achiev higher accuraci one base short questionnair child parent base specif train watch three short')]"
            ]
          },
          "metadata": {},
          "execution_count": 17
        }
      ]
    },
    {
      "cell_type": "code",
      "source": [
        "query='What is the cure of Autism Spectrum Disorder'\n",
        "user_input(text_preprocessing(query))"
      ],
      "metadata": {
        "colab": {
          "base_uri": "https://localhost:8080/"
        },
        "id": "Vc-d1zxpFOFX",
        "outputId": "50e44558-8d67-452d-f6e8-eeae4bdbcd83"
      },
      "execution_count": null,
      "outputs": [
        {
          "output_type": "stream",
          "name": "stdout",
          "text": [
            "{'output_text': 'The provided context does not mention anything about curing autism spectrum disorder, so I cannot answer this question from the provided context.'}\n"
          ]
        }
      ]
    },
    {
      "cell_type": "markdown",
      "source": [
        "Query4"
      ],
      "metadata": {
        "id": "6vLWWxntH2bU"
      }
    },
    {
      "cell_type": "code",
      "source": [
        "new_db.similarity_search('What are Stereotypical and maladaptive behaviors in Autism Spectrum, how are these detected and managed',k=5)"
      ],
      "metadata": {
        "colab": {
          "base_uri": "https://localhost:8080/"
        },
        "id": "zb8G9zH-FOCu",
        "outputId": "b66a8506-f826-4b4f-9bac-4fbf9803a81e"
      },
      "execution_count": null,
      "outputs": [
        {
          "output_type": "execute_result",
          "data": {
            "text/plain": [
              "[Document(page_content='progress earli detect treatment autism developkj smithcarpentg atyp control via comput vision analysi autism spectrum disordg hill spencerl affect young autist journal abnorm child psychologg potenti digit behavior measur transform detect autism spectrum disord jama pediatrkjj earli social attent autism social joint attent attent development psycholog de lawf dingj intern confer automat face gestur recognittwo way street automat emot moral journal experiment child eggerlj carpentlkautomat emot attent analysi young home autism feasibl studi digit medicinreveal new york timeface basic appli stud spontan express facial action new york univers presshlnposit affect infant autism journal abnorm child psychologc random sampl paradigm model imag analysi cartographi machinerideceit facial express role poker face child depend person detector psychologljoint initi without posit affect risk group journal developmentlordautism diagnost observ schedul diagnost valid journal autism develop mental'),\n",
              " Document(page_content='autism development morganself regul affect express play autism syndrom short term longitudin studi journal developmentggoldtrace tempor autism spectrum diagnosi sever measur diagnost observ schedul systemat meta analysi onecarpentlborgg comput vision analysi atyp attent autism autismcarpentljg use digit autism follow improv qualiti screen autism pediatrhalln swain techali whitegroup facial emot express autism evid machin cation behavior therapi changc linj librari support vector intellig technologjvjpreval autism spectrum disord among chil age autism development network unitdyadic triadic infanc later social respons autist disord journal autism carpent al digit behavioryoungp earli autist disord video analysi journal autism developmentearli develop joint attent autist disord parent interview journal developmentreduc facial muscl move autism evid dysfunct pathway brain cognitr quarter centuri progress earli detect treatment autism developkj smithcarpentg atyp control via comput vision'),\n",
              " Document(page_content='interact autism spectrum disord convolut neural network robot reason model statist shape model research child robot interact provid necessari interact child devic take account fundament child physic condit child mental health robot rat interest intervent faster signific gain therapeut intervent tradit disord peopl birth found earli es ram feder period suffer exhibit persist social commun social interact repetit behavior may age although reliabl diagnosi age accord accord use comput vision analyz child video summar help reduc delay diagnosi provid access earli therapeut addit base intervent transform tradit diagnosi devic systemat elicit child exhibit first assist make diagnosi base primarili open loop remot howev unabl perform autonom feedback enhanc interact content courtesi springer natur use appli reserv nevertheless differ abl modifi behavior robot accord environment child respons close loop artifici cognit offer technolog support flexibl potenti naturalist interact fact literatur'),\n",
              " Document(page_content='support autism autism scienc foundat report financi potenti interest autism spectrum disord video infant rate system autism alearli autism detect readi routin screen pediatrvideo static improv learn procedur content human behaviorlwarrenspencerc whitel leehallvanpreval autism spectrum disord among age autism development network unit surveil summari barger preval onset regress within autism spectrum meta analyt review journal autism developmentrf parent recognit development autism spectrum journal autism developmentf autism criteria comparison neural standard child neuropsycholog clarkrare rare appropri use screen journal child psycholog psychiatri gammerhtuckerv olein basi team behavior autism infanc autism observ scale prospect studi risk infant behavior developyoung use prospect longitudin gaze regress paper annual meet intern societi autism research da screen lancet young al pagechild psychiatri author manuscript avail author manuscript author manuscript author manuscript author'),\n",
              " Document(page_content='research machin learn approach earli detect autism combin questionnair home video screen abba gloveralto ca pediatr univers ca data scienc univers ca correspond alto ca receiv march editori decis march accept abstract background screen earli detect autism expens cumbersom time intens sometim fall short predict valu work sought appli machin learn clinic data across risk autism spectrum disord creat alow cost quick easi appli autism screen tool two train identifi autism one base short structur parent key short semi structur home binat algorithm use combin singl assess higher accuraci come scarciti sparsiti imbal train data appli novel featur select featur allow inconclus determin appropri boost screen accuraci conclus perform center clinic studiascertain perform combin demonstr cant accuraci improv standard screen ing sensit citi conclus suggest mobil machin learn process reliabl method detect autism outsid clinic varieti confound clinic analysi final statist limit bene fu clinic extend')]"
            ]
          },
          "metadata": {},
          "execution_count": 19
        }
      ]
    },
    {
      "cell_type": "code",
      "source": [
        "query='What are Stereotypical and maladaptive behaviors in Autism Spectrum, how are these detected and managed'\n",
        "user_input(text_preprocessing(query))"
      ],
      "metadata": {
        "colab": {
          "base_uri": "https://localhost:8080/"
        },
        "id": "w95JshPsFN_-",
        "outputId": "a4bd587f-fcfb-4b5e-d6e8-8fdb5fde399f"
      },
      "execution_count": null,
      "outputs": [
        {
          "output_type": "stream",
          "name": "stdout",
          "text": [
            "{'output_text': 'The provided context does not contain any information about stereotypes of autism spectrum disorder, so I cannot answer this question from the provided context.'}\n"
          ]
        }
      ]
    },
    {
      "cell_type": "markdown",
      "source": [
        "Query5"
      ],
      "metadata": {
        "id": "-cos5m5CH4jP"
      }
    },
    {
      "cell_type": "code",
      "source": [
        "new_db.similarity_search('How relevant is eye contact and how it can be used to detect Autism',k=5)"
      ],
      "metadata": {
        "colab": {
          "base_uri": "https://localhost:8080/"
        },
        "id": "5SwpFdgwFN9f",
        "outputId": "6c121f78-0c1e-4706-e708-6e4d4fd2cde6"
      },
      "execution_count": null,
      "outputs": [
        {
          "output_type": "execute_result",
          "data": {
            "text/plain": [
              "[Document(page_content='mother infant interact affectal development hand typic risk development observ studi year life frontal take account infant engag emot earli may help determin risk autism intellectu disabl west syndrom child psychiatribrunetr vi de de la premier lordrutter autism diagnost interview version diagnost interview pervas devautism devrrk toward object cation childhood autism childhood autism rate scaleautism devbcolor base particl joint detect multipl acoust speech signal pa huede mont pour non lin air un bruit laneunehe de blake condens condit densiti propag visualvicfknbeneellverecognit technolog method spontan high risk front al dynam non verbal father infant interact affectal linguist employ complex commun engag social repair interactsoc open saintal recogn autist deviant behavior long diagnosi take account interact comput one saintal interact cross road emot cognit systemat review one al home video detect may help studi interact becom autiste ibap induct one level decis machin learn'),\n",
              " Document(page_content='languag evid normal autism asperg syndrom visual cognit vol deer autism research institut report develop autism educ rehabilit industri china hous facial autism facial facial express recognit base depth learn southeast universresearch face express recognit base kernel universresearch progress etiolog treatment autism scienc life scienc volargument basic cognit emot vol research facial express recognit method base featur fusion univers lideep facial express recognit survey preprintx summari research facial express recognit autist modern special educ voljjextend complet action unit emot express comput societi confer comput vision pattern recognit commun without commun theori volb research implement real time face express recognit method inform technolog vol organh classif mental clinic diagnost world health organ genevadiagnost statist manual mental encyclopedia psycholog volz dingcomput facial express recognit train improv facial express recognit abil autist tech horizon vol singhnandi'),\n",
              " Document(page_content='progress earli detect treatment autism developkj smithcarpentg atyp control via comput vision analysi autism spectrum disordg hill spencerl affect young autist journal abnorm child psychologg potenti digit behavior measur transform detect autism spectrum disord jama pediatrkjj earli social attent autism social joint attent attent development psycholog de lawf dingj intern confer automat face gestur recognittwo way street automat emot moral journal experiment child eggerlj carpentlkautomat emot attent analysi young home autism feasibl studi digit medicinreveal new york timeface basic appli stud spontan express facial action new york univers presshlnposit affect infant autism journal abnorm child psychologc random sampl paradigm model imag analysi cartographi machinerideceit facial express role poker face child depend person detector psychologljoint initi without posit affect risk group journal developmentlordautism diagnost observ schedul diagnost valid journal autism develop mental'),\n",
              " Document(page_content='autism development morganself regul affect express play autism syndrom short term longitudin studi journal developmentggoldtrace tempor autism spectrum diagnosi sever measur diagnost observ schedul systemat meta analysi onecarpentlborgg comput vision analysi atyp attent autism autismcarpentljg use digit autism follow improv qualiti screen autism pediatrhalln swain techali whitegroup facial emot express autism evid machin cation behavior therapi changc linj librari support vector intellig technologjvjpreval autism spectrum disord among chil age autism development network unitdyadic triadic infanc later social respons autist disord journal autism carpent al digit behavioryoungp earli autist disord video analysi journal autism developmentearli develop joint attent autist disord parent interview journal developmentreduc facial muscl move autism evid dysfunct pathway brain cognitr quarter centuri progress earli detect treatment autism developkj smithcarpentg atyp control via comput vision'),\n",
              " Document(page_content='interact autism spectrum disord convolut neural network robot reason model statist shape model research child robot interact provid necessari interact child devic take account fundament child physic condit child mental health robot rat interest intervent faster signific gain therapeut intervent tradit disord peopl birth found earli es ram feder period suffer exhibit persist social commun social interact repetit behavior may age although reliabl diagnosi age accord accord use comput vision analyz child video summar help reduc delay diagnosi provid access earli therapeut addit base intervent transform tradit diagnosi devic systemat elicit child exhibit first assist make diagnosi base primarili open loop remot howev unabl perform autonom feedback enhanc interact content courtesi springer natur use appli reserv nevertheless differ abl modifi behavior robot accord environment child respons close loop artifici cognit offer technolog support flexibl potenti naturalist interact fact literatur')]"
            ]
          },
          "metadata": {},
          "execution_count": 24
        }
      ]
    },
    {
      "cell_type": "code",
      "source": [
        "query='How relevant is eye contact and how it can be used to detect Autism'\n",
        "user_input(text_preprocessing(query))"
      ],
      "metadata": {
        "colab": {
          "base_uri": "https://localhost:8080/"
        },
        "id": "k1mCC3YmfNph",
        "outputId": "a179790b-e3c9-4346-ade5-87a580c0b033"
      },
      "execution_count": null,
      "outputs": [
        {
          "output_type": "stream",
          "name": "stdout",
          "text": [
            "{'output_text': 'The duration of active social engagement was positively correlated with the social commun factor score, language factor score, and the total csb dp score. Frequency of eye contact was positively correlated with the social commun factor score, the language factor score, and the total csb dp score.'}\n"
          ]
        }
      ]
    },
    {
      "cell_type": "markdown",
      "source": [
        "Query6"
      ],
      "metadata": {
        "id": "jg3I-9ZVH6DT"
      }
    },
    {
      "cell_type": "code",
      "source": [
        "new_db.similarity_search('How can cross country trials help in development of Machine learning based Multimodal solutions',k=5)"
      ],
      "metadata": {
        "colab": {
          "base_uri": "https://localhost:8080/"
        },
        "id": "G4HIXTGlIZKH",
        "outputId": "358d991f-78b0-4381-f511-058586e24768"
      },
      "execution_count": null,
      "outputs": [
        {
          "output_type": "execute_result",
          "data": {
            "text/plain": [
              "[Document(page_content='train framework comparison model linear kernel train data split deep learn model well vanilla singl eightpeer review figur structur joint optim model auto ae bidirect long short term memori perform evalu perform method five fold cross valid averag averag proport distribut five estim utter data five valid model tabl use train model selecttest ae joint model classif stage one utter frame wise method outputclass indic averag class indic utter consid child utter score convent well unweight averag recalweight averag recal war chosen emot challeng consid class experi model low precis extrem toward class er ae model consider qualiti ae model margin improv correctli select degrad qualiti toward tabl classif support vector machin selectae ae accuraci precis recal score unweight averag recal figur structur joint optim model auto ae bidirect long short term memori perform evalu perform method fold cross valid averag averag proport distribut gener estim utter data valid model tabl use train model'),\n",
              " Document(page_content='cross valid averag averag proport distribut gener estim utter data valid model tabl use train model select ae joint model cation stage one utter frame wise method output convert class indic averag class indic utter consid child utter score convent well unweight averag recal weight averag recal war chosen emot challeng consid class experi model low precis extrem toward class er ae model consider qualiti ae model margin improv correctli select degrad qualiti toward tabl cation support vector machin select ae ae accuraci precis recal score unweight averag recal discuss vanilla model discrimin well month old sort distinct distribut select three fold cross valid method howev di data distribut achiev featur select test cation featur set herein applic ident model structur adopt featur domain allow indirectli compar data stochast neighbor analysi train data set squeez data dimens base machin learn algorithm figur data distribut two dimension scatter plot almost ident distribut except amount'),\n",
              " Document(page_content='model base diagnosi uncertain figur two dimension scatter plotc ae stochast neighbor overal perform compar low gener cation account subject complex limit shortag data jointli model impli possibl deep learn base featur extract improv diagnosi restrict paper possibl auto base featur extract joint optim method detect earli development condit dispers data set cation rel poor comparison gener cation base deep learn although investig use limit number unbalanc data set auto base featur extract joint optim method reveal possibl featur dimens slight improv model base diagnosi uncertain futur work focu increas reliabl method addit number speech data acoust auto featur extract better date model research also extend age speak sever case investig linguist well acoust done paper addit detect research appli detect develop author content manuscriptkresearch idea framework studibj provid discusshgl data collect read agre version manuscript work institut inform technolog evalu grant fund govern develop'),\n",
              " Document(page_content='zokqomyouqkkzkqqst soy owzsoyqq mokzqzkrz moowmonk stklw yonkqkzoqzwwkzomk omomj omlk styo omjfyononkkzkkzo yoff wozfzk nonzzlzkzfk om omyou ortzjzjlo omq ort nonkjzjkqmokfzjsotl ortzjkqlokzkstk omomj omomzjomllolozzzzkq yonzqwkqlzjkzzzjom omyouzqmon yokyonomqkkqfqkqzo lomoz wofst styon lo loql yowkstmoq monkjzjqz omknomlwok omk yolksolozfk omzzom om om omyoukzfkkkkkk omlo sokj sokfomomqz yo owkomnkk omkf stkkjzz sokzjzzqjzjk omomstkowq omwoqqqqq mostyon lo loq moqzzkkzomyouqz oskqq loloq stkst nonom owstqqz yo soyqqqqz omqmo frokfzfwfzjzjzjzzfwfjfwzzjomwwwom om omk omyoullz ow yoksokvfzffzfqjzjqkqom owk mowoqzjj yok sownowfqklzfzwzzqzqzk owstfzfqwqwflomqkkq sotksotkz sokkfkjk soksokq zoqzoj om om om om om om om om om om om om om om omjom om om om om om om om om om om om om om omzjom om om om om om om om om om om om om om omfk om omyoumo yozz zozok wok yokz stkf io om owk yok omksolokkqkkgw wo omstz yoq owyo omqq st ow zovzlomqstzzw omzo owzmovmoomkq owstsow mokk molqkzq'),\n",
              " Document(page_content='zokfkqzstnkkowlqwlk wo owkstkkz stkkzzkstkjkstk owk om yokvom owklo owkzzzzkkk stzkkkzq stqjqkjkzkzst solozv yozqzkzgfjjvkjj ow zonjowyon stlokzo stk omk lolk owl stq zo owowq sot omk soyfn owq om zo omkjowz loolqksotqzlo zo owl sokkzo ownk zo owz sotom non wo zo ow sot owomzfloz ststqkk sokzqz zo owksokqkjjzkl ow zo owfzo owk soynoykzj soyzsotwj yost soyqk mokk stkkkq yoy lostsow stq sotsotkqwq stz sonkz mozkzokoskzlzwwzkzzzozokoswzjwkkyok jo omzoz om om yozfw zokz omlgnjjlwoomkjcvk omzwok omvyokq sok yowokow wowoy wok wokz yozoomnyofzkzwqwoom jozlowqkzzowo wojowfi zonfzznkkwon yokzom joulq omrlzom wo wozlol stwf zoz ut wo nizozzkzok ow yokgq lonqomomnu goql logko owq omomwjzwogzbksookqnzznz jowgozzzo zowz jozqjnv jokkn woozo jozowqnk sotu omk omnmouczz loomqomkzwmomojutkqqn omk ow yowvgzuf omzwwyst wokfzzlrkkquzn om quoqzzvf omzogzozksowwq mowfnnwomzmozwqwukr wozzzjoz yoomwjzkw goowcz own zokwzqkwzmozfwiq moomq momowfk ow yokf omjogvwkzomkwj moqgfkwozz jo omfkrq morz zozz mo mo')]"
            ]
          },
          "metadata": {},
          "execution_count": 26
        }
      ]
    },
    {
      "cell_type": "code",
      "source": [
        "query='How can cross country trials help in development of Machine learning based Multimodal solutions'\n",
        "user_input(text_preprocessing(query))"
      ],
      "metadata": {
        "id": "O5lQUMOlIZHv",
        "colab": {
          "base_uri": "https://localhost:8080/"
        },
        "outputId": "4925b440-38cc-4f8f-80c7-55db322d8739"
      },
      "execution_count": null,
      "outputs": [
        {
          "output_type": "stream",
          "name": "stdout",
          "text": [
            "{'output_text': 'The provided context does not mention anything about cross country helping develop machine learning based multimodal, so I cannot answer this question from the provided context.'}\n"
          ]
        }
      ]
    },
    {
      "cell_type": "markdown",
      "source": [
        "Query7"
      ],
      "metadata": {
        "id": "5KlmAROnIaPg"
      }
    },
    {
      "cell_type": "code",
      "source": [
        "new_db.similarity_search('How early infants cry can help in the early detection of Autism',k=5)"
      ],
      "metadata": {
        "colab": {
          "base_uri": "https://localhost:8080/"
        },
        "id": "j4H1D2sDIZFH",
        "outputId": "541baa15-e4db-495f-a44f-f20c4afa2880"
      },
      "execution_count": null,
      "outputs": [
        {
          "output_type": "execute_result",
          "data": {
            "text/plain": [
              "[Document(page_content='research machin learn approach earli detect autism combin questionnair home video screen abba gloveralto ca pediatr univers ca data scienc univers ca correspond alto ca receiv march editori decis march accept abstract background screen earli detect autism expens cumbersom time intens sometim fall short predict valu work sought appli machin learn clinic data across risk autism spectrum disord creat alow cost quick easi appli autism screen tool two train identifi autism one base short structur parent key short semi structur home binat algorithm use combin singl assess higher accuraci come scarciti sparsiti imbal train data appli novel featur select featur allow inconclus determin appropri boost screen accuraci conclus perform center clinic studiascertain perform combin demonstr cant accuraci improv standard screen ing sensit citi conclus suggest mobil machin learn process reliabl method detect autism outsid clinic varieti confound clinic analysi final statist limit bene fu clinic extend'),\n",
              " Document(page_content='multimod social interact synchroni could predict autism spectrum disord id follow id best machin learn accuraci accuraci best distinguish includ combin infant combin synchroni vocal data indic behavior interact abl predict id high risk introduct behavior interact promis domain affect ore psychiatr regard child psychiatri mani identifi reliabl mental high riskg sib autism year life recommend earli howev social cult identifi young addit explor qualiti dynam earli complex endeavor percept integr social understand synchron proceed turn take affect possibl analyz interact sever multimod natur dynam date semin appli social signal mother infant withoutcondit speech turng al head hand movement facial west syndrom rare encephalopathi earli onset age year high risk one third show later autism spectrum disord intellectu disabl id typic particip standard earli mother infant author open access articl licens creativ common attribut licens use adapt distribut reproduct medium format long give'),\n",
              " Document(page_content='longitudin studi elev lower risk autism spectrum disord older sibl known famili histori autism video infant rate system autism web base applic togeth forc choic video similar child rate rate age split half test retest reliabl converg discrimin valid sensit specif neg posit predict valu concurr month diagnos satisfactori reliabl converg discrimin valid significantli lower ultim typic develop age age well studi initi step develop novel video base approach detect infanc psychometr promis use older affect child still must test commun famili histori replic low burden web base format potenti reduc limit access screen autism screen infanc social develop correspond salli mind institut health street ca public access author manuscriptchild psychiatri author manuscript avail final formchild psychiatri author manuscript author manuscript author manuscript author development cours autism spectrum disord onset first three life later receiv diagnosi typic develop emerg second birthday gammer al al'),\n",
              " Document(page_content='interact autism spectrum disord convolut neural network robot reason model statist shape model research child robot interact provid necessari interact child devic take account fundament child physic condit child mental health robot rat interest intervent faster signific gain therapeut intervent tradit disord peopl birth found earli es ram feder period suffer exhibit persist social commun social interact repetit behavior may age although reliabl diagnosi age accord accord use comput vision analyz child video summar help reduc delay diagnosi provid access earli therapeut addit base intervent transform tradit diagnosi devic systemat elicit child exhibit first assist make diagnosi base primarili open loop remot howev unabl perform autonom feedback enhanc interact content courtesi springer natur use appli reserv nevertheless differ abl modifi behavior robot accord environment child respons close loop artifici cognit offer technolog support flexibl potenti naturalist interact fact literatur'),\n",
              " Document(page_content='mother infant interact affectal development hand typic risk development observ studi year life frontal take account infant engag emot earli may help determin risk autism intellectu disabl west syndrom child psychiatribrunetr vi de de la premier lordrutter autism diagnost interview version diagnost interview pervas devautism devrrk toward object cation childhood autism childhood autism rate scaleautism devbcolor base particl joint detect multipl acoust speech signal pa huede mont pour non lin air un bruit laneunehe de blake condens condit densiti propag visualvicfknbeneellverecognit technolog method spontan high risk front al dynam non verbal father infant interact affectal linguist employ complex commun engag social repair interactsoc open saintal recogn autist deviant behavior long diagnosi take account interact comput one saintal interact cross road emot cognit systemat review one al home video detect may help studi interact becom autiste ibap induct one level decis machin learn')]"
            ]
          },
          "metadata": {},
          "execution_count": 28
        }
      ]
    },
    {
      "cell_type": "code",
      "source": [
        "query='How early infants cry can help in the early detection of Autism'\n",
        "user_input(text_preprocessing(query))"
      ],
      "metadata": {
        "colab": {
          "base_uri": "https://localhost:8080/"
        },
        "id": "GlWJaqzhfNkK",
        "outputId": "66aabd71-7fbd-4a7a-dd55-9491eb0bdf63"
      },
      "execution_count": null,
      "outputs": [
        {
          "output_type": "stream",
          "name": "stdout",
          "text": [
            "{'output_text': 'This study found that computer vision analysis of facial movement expression via tablet-based assessment can detect differences in affect expression, one of the early core features of ASD.'}\n"
          ]
        }
      ]
    },
    {
      "cell_type": "markdown",
      "source": [
        "Query8"
      ],
      "metadata": {
        "id": "a9UfPrUMIcEH"
      }
    },
    {
      "cell_type": "code",
      "source": [
        "new_db.similarity_search('What are various methods to detect Atypical Pattern of Facial expression in Children',k=5)"
      ],
      "metadata": {
        "colab": {
          "base_uri": "https://localhost:8080/"
        },
        "id": "sP5Rh19hIZAH",
        "outputId": "2b4e7b16-a7b4-461b-f15f-c669b9144f20"
      },
      "execution_count": null,
      "outputs": [
        {
          "output_type": "execute_result",
          "data": {
            "text/plain": [
              "[Document(page_content='al automat track facial child face de la al head rel camera optim rotat canon face model visibl tag assign face drastic yaw center acknowledg current method use whether child toward stimulu track eye visibl frame probabl three standard facial posit neutralactiv facial figur exampl movi stimuli development appropri mechan bunni anim split screen show woman sing nurseri one side dynam nois side carpent al digit behavior unit assign al model express extens pose invari cross modal dictionari learn approach origin al train represent setup map facial abl infer discrimin facial inform facial recognit even facial avail deploy train data bing univers facial express yin sun wang use along see al synthesi extract imag subset facial use facial learn robust dictionari lastli discrimin facial support vector machin chang lin train differ facial recent progress automat facial express analysi al thrasher chow addit algorithm expert human rater facial affect subsampl video record across non non sampl'),\n",
              " Document(page_content='elicit pattern behavior toward therapist begin intervent transit therapist robot mediat end contrast toward therapist transit fact clear differ behavior pattern task protocol fact pattern use evid improv diagnosi work robot tool assist enhanc tradit practic diagnosi design framework vision system analysi nonverb addit platform upon open sourc research state art innov flexibl scalabl architectur capabl automat regist joint attent visual contact robot base mediat well pattern behavior relat comfort discomfort along intervent addit artifici vision pipelin base camera approach vision system face detect recognit landmark detect head pose gaze estim visual focu attent perform consid suitabl use convent intervent least one camera child face sampl frame furthermor feedback inform child perform success use modul behavior improv perform visual attent regard estim algorithm abl estim target differ recurr also robot abl react accord estim howev algorithm occlus child hand occlus therapist robot'),\n",
              " Document(page_content='child current lyg duction eye gaze posit facial emot increas neg emot de episode relev also reason generdisappear social eye contact show still face two often use research randomli order past basic use method explor earli childhood social reason studi chosen present studi om child stop interact neutral face setup experiment infant engag phase al de ne protest behavior infant facialinfant upset cri arch bodi escap anger non social smile infant mother toward eye contact infantdirectli mother face instead look thfant mother initi smile ting smile mother infant immedi smile smile activ social engag infant happi facial clear smile occasion coo activ laugh babbl mother initi infant posit respons interact mother observ behavior observ record train graduat durat durat measur unit total randomli select determinfound high consist protest behavior non social smile eye contact social smile engag respect figur pediatr june volum articl al earli screen high risk tabl comparison gener group group'),\n",
              " Document(page_content='languag evid normal autism asperg syndrom visual cognit vol deer autism research institut report develop autism educ rehabilit industri china hous facial autism facial facial express recognit base depth learn southeast universresearch face express recognit base kernel universresearch progress etiolog treatment autism scienc life scienc volargument basic cognit emot vol research facial express recognit method base featur fusion univers lideep facial express recognit survey preprintx summari research facial express recognit autist modern special educ voljjextend complet action unit emot express comput societi confer comput vision pattern recognit commun without commun theori volb research implement real time face express recognit method inform technolog vol organh classif mental clinic diagnost world health organ genevadiagnost statist manual mental encyclopedia psycholog volz dingcomput facial express recognit train improv facial express recognit abil autist tech horizon vol singhnandi'),\n",
              " Document(page_content='progress earli detect treatment autism developkj smithcarpentg atyp control via comput vision analysi autism spectrum disordg hill spencerl affect young autist journal abnorm child psychologg potenti digit behavior measur transform detect autism spectrum disord jama pediatrkjj earli social attent autism social joint attent attent development psycholog de lawf dingj intern confer automat face gestur recognittwo way street automat emot moral journal experiment child eggerlj carpentlkautomat emot attent analysi young home autism feasibl studi digit medicinreveal new york timeface basic appli stud spontan express facial action new york univers presshlnposit affect infant autism journal abnorm child psychologc random sampl paradigm model imag analysi cartographi machinerideceit facial express role poker face child depend person detector psychologljoint initi without posit affect risk group journal developmentlordautism diagnost observ schedul diagnost valid journal autism develop mental')]"
            ]
          },
          "metadata": {},
          "execution_count": 30
        }
      ]
    },
    {
      "cell_type": "code",
      "source": [
        "query='What are various methods to detect Atypical Pattern of Facial expression in Children'\n",
        "user_input(text_preprocessing(query))"
      ],
      "metadata": {
        "colab": {
          "base_uri": "https://localhost:8080/"
        },
        "id": "hlGlrbMtfNhy",
        "outputId": "e866c172-7d97-461d-94eb-16653c3afbce"
      },
      "execution_count": null,
      "outputs": [
        {
          "output_type": "stream",
          "name": "stdout",
          "text": [
            "{'output_text': 'The various methods used to detect atypical patterns of facial expression in children include:\\n\\n- Computer vision analysis (CVA)\\n- Automatic detection and tracking of facial landmarks\\n- Estimation of head position\\n- Facial expression positivity\\n- Neutral expression'}\n"
          ]
        }
      ]
    },
    {
      "cell_type": "markdown",
      "source": [
        "Query9"
      ],
      "metadata": {
        "id": "4lUrRf0pIdeI"
      }
    },
    {
      "cell_type": "code",
      "source": [
        "new_db.similarity_search('What kind of facial expressions can be used to detect Autism Disorder in children',k=5)"
      ],
      "metadata": {
        "colab": {
          "base_uri": "https://localhost:8080/"
        },
        "id": "n1AV6jdwIY7H",
        "outputId": "20e0bd42-afa9-4473-d91a-fa56d054c1b2"
      },
      "execution_count": null,
      "outputs": [
        {
          "output_type": "execute_result",
          "data": {
            "text/plain": [
              "[Document(page_content='standard facial express studi recognit differ emot autist found autist better recognit basic facial happi rel complex facial surpris recognit difficult recogn present main diagnost criteria autism autism child behavior scale autism rate scale behavior scale wang consult larg number investig actual situat hospit hospit mainli fill fill fill diagnos autism detail review test three scale scale contain test judg autism facial scale seventh item inexplic laughter tenth item look face eye contact relat express scale seventh item non commun smile seventeenth item respond peopl facial twenti fourth item activ avoid eye contact fifteen scale third emot respons pleasur unhappi interest express facial express postur scale basic includ autism detect facial show diagnosi autism accur facial progress artifici intellig technolog facial express recognit technolog object effect reflect mental health use earli diagnosi autism al also matern child health hospit hospit medic center mani time actual check'),\n",
              " Document(page_content='languag evid normal autism asperg syndrom visual cognit vol deer autism research institut report develop autism educ rehabilit industri china hous facial autism facial facial express recognit base depth learn southeast universresearch face express recognit base kernel universresearch progress etiolog treatment autism scienc life scienc volargument basic cognit emot vol research facial express recognit method base featur fusion univers lideep facial express recognit survey preprintx summari research facial express recognit autist modern special educ voljjextend complet action unit emot express comput societi confer comput vision pattern recognit commun without commun theori volb research implement real time face express recognit method inform technolog vol organh classif mental clinic diagnost world health organ genevadiagnost statist manual mental encyclopedia psycholog volz dingcomput facial express recognit train improv facial express recognit abil autist tech horizon vol singhnandi'),\n",
              " Document(page_content='progress earli detect treatment autism developkj smithcarpentg atyp control via comput vision analysi autism spectrum disordg hill spencerl affect young autist journal abnorm child psychologg potenti digit behavior measur transform detect autism spectrum disord jama pediatrkjj earli social attent autism social joint attent attent development psycholog de lawf dingj intern confer automat face gestur recognittwo way street automat emot moral journal experiment child eggerlj carpentlkautomat emot attent analysi young home autism feasibl studi digit medicinreveal new york timeface basic appli stud spontan express facial action new york univers presshlnposit affect infant autism journal abnorm child psychologc random sampl paradigm model imag analysi cartographi machinerideceit facial express role poker face child depend person detector psychologljoint initi without posit affect risk group journal developmentlordautism diagnost observ schedul diagnost valid journal autism develop mental'),\n",
              " Document(page_content='autism development morganself regul affect express play autism syndrom short term longitudin studi journal developmentggoldtrace tempor autism spectrum diagnosi sever measur diagnost observ schedul systemat meta analysi onecarpentlborgg comput vision analysi atyp attent autism autismcarpentljg use digit autism follow improv qualiti screen autism pediatrhalln swain techali whitegroup facial emot express autism evid machin cation behavior therapi changc linj librari support vector intellig technologjvjpreval autism spectrum disord among chil age autism development network unitdyadic triadic infanc later social respons autist disord journal autism carpent al digit behavioryoungp earli autist disord video analysi journal autism developmentearli develop joint attent autist disord parent interview journal developmentreduc facial muscl move autism evid dysfunct pathway brain cognitr quarter centuri progress earli detect treatment autism developkj smithcarpentg atyp control via comput vision'),\n",
              " Document(page_content='sion pattern evid qualiti facial emot al young maestro al daw son restrict rang emot sion integr eye gazeg found differenti typic well development age al al al stone core vari age cognit abil languag one stabl earli childhood frequenc neutral express bal kim lord facial affect may show util earli risk recent meta analysi facial express product autism found display facial less often non display facial shorter differ qualiti non frequenc emot facial morgan hill spencer snow lab base al al respons emot fur higher frequenc neutral social impair al chil morgan durat facial affect promis earli risk marker young autism previou research atyp facial chil hand facial time intens often cant train morgan al al al al al al approach scalabl use gen eral risk screen behavior outcom assess use larg clinic eld toward facial one approach chil atyp facial howev technolog wear face data cap yang al invas scalabl recent sever appli non technolog measur affect older within laboratori set hall al al al')]"
            ]
          },
          "metadata": {},
          "execution_count": 32
        }
      ]
    },
    {
      "cell_type": "code",
      "source": [
        "query='What kind of facial expressions can be used to detect Autism Disorder in children'\n",
        "user_input(text_preprocessing(query))"
      ],
      "metadata": {
        "colab": {
          "base_uri": "https://localhost:8080/"
        },
        "id": "0-cC5Xa6fNfJ",
        "outputId": "fbf68123-dcd3-4f02-8e2a-c1e5dee0d967"
      },
      "execution_count": null,
      "outputs": [
        {
          "output_type": "stream",
          "name": "stdout",
          "text": [
            "{'output_text': 'The paper uses the latest deep learning technology to improve the accuracy of facial expression recognition, which is better than the previous traditional techniques. The low recognition rate of facial expression in recent years has been improved by the development of artificial intelligence technology. The great improvement in the accuracy of facial expression recognition by convolutional neural networks has greatly improved the accuracy of facial expression recognition.'}\n"
          ]
        }
      ]
    },
    {
      "cell_type": "markdown",
      "source": [
        "Query10"
      ],
      "metadata": {
        "id": "Wq4V1jnWIfDf"
      }
    },
    {
      "cell_type": "code",
      "source": [
        "new_db.similarity_search('What are methods to detect Autism from home videos',k=5)"
      ],
      "metadata": {
        "colab": {
          "base_uri": "https://localhost:8080/"
        },
        "id": "KTONi3-JIgW3",
        "outputId": "cc3064ed-9840-4261-b9e5-71a8df820889"
      },
      "execution_count": null,
      "outputs": [
        {
          "output_type": "execute_result",
          "data": {
            "text/plain": [
              "[Document(page_content='research machin learn approach earli detect autism combin questionnair home video screen abba gloveralto ca pediatr univers ca data scienc univers ca correspond alto ca receiv march editori decis march accept abstract background screen earli detect autism expens cumbersom time intens sometim fall short predict valu work sought appli machin learn clinic data across risk autism spectrum disord creat alow cost quick easi appli autism screen tool two train identifi autism one base short structur parent key short semi structur home binat algorithm use combin singl assess higher accuraci come scarciti sparsiti imbal train data appli novel featur select featur allow inconclus determin appropri boost screen accuraci conclus perform center clinic studiascertain perform combin demonstr cant accuraci improv standard screen ing sensit citi conclus suggest mobil machin learn process reliabl method detect autism outsid clinic varieti confound clinic analysi final statist limit bene fu clinic extend'),\n",
              " Document(page_content='al home video detect may help studi interact becom autiste ibap induct one level decis machin learn ninth intern workshopmorgan san ca wanal qualiti interact risk associ year autism outcomchild psychiatrial infant dyadic earli commun base screen autism spectrum disord grid one greenal parent versu intervent high risk autism parallel singl blind trial lancet psychiatri purpuraal bilater repetit month old autism spectrum fronthtaeeehassoci autism high risk pilot sibl samplautism dev morganbarber repetit stereotyp move autism late second year lifechild psychiatrial repetit month later autism spectrum disordchild psychiatrij al longitudin repetit behavior autismchild psychiatrial gener autism spectrum dileuhprrlrlne motor grasp month old high risk autism child deval social commun risk autism gaze follow attent engagautism devlbhtawush ugceulface scan typic atyp develop soc affectnwleoepresent declin month old later autism naturururghrkluemhvocal productchild psychiatriekfvrjnlerpr'),\n",
              " Document(page_content='longitudin studi elev lower risk autism spectrum disord older sibl known famili histori autism video infant rate system autism web base applic togeth forc choic video similar child rate rate age split half test retest reliabl converg discrimin valid sensit specif neg posit predict valu concurr month diagnos satisfactori reliabl converg discrimin valid significantli lower ultim typic develop age age well studi initi step develop novel video base approach detect infanc psychometr promis use older affect child still must test commun famili histori replic low burden web base format potenti reduc limit access screen autism screen infanc social develop correspond salli mind institut health street ca public access author manuscriptchild psychiatri author manuscript avail final formchild psychiatri author manuscript author manuscript author manuscript author development cours autism spectrum disord onset first three life later receiv diagnosi typic develop emerg second birthday gammer al al'),\n",
              " Document(page_content='spot label sent third binari classifi train inconclus perform therefor simpler method rang machin learn output use paper inconclus rate model paramet coverag accuraci paper inconclus rate variant set video second two method approach autism screen classifi input presenc target among inform analyst upon two three minut home semi structur taken mobil classifi train item level data two modul preverb modul speech correspond clinic diagnosi two decis forest train correspond modul classifi robust featur select method allow inconclus made parent classifi model independ paramet grid search class use cross valid age label use weight balanc relat chang environ train applic especi signific case video minut direct observ wherea screen base unsupervis specif expect likelihood inconclus unobserv much higher plicat train data assess level frequenc less reliabl train data follow help overcom presenc behavior minim potenti bia video analyst se veriti symptom short cell phone video featur reliabl expens'),\n",
              " Document(page_content='mother infant interact affectal development hand typic risk development observ studi year life frontal take account infant engag emot earli may help determin risk autism intellectu disabl west syndrom child psychiatribrunetr vi de de la premier lordrutter autism diagnost interview version diagnost interview pervas devautism devrrk toward object cation childhood autism childhood autism rate scaleautism devbcolor base particl joint detect multipl acoust speech signal pa huede mont pour non lin air un bruit laneunehe de blake condens condit densiti propag visualvicfknbeneellverecognit technolog method spontan high risk front al dynam non verbal father infant interact affectal linguist employ complex commun engag social repair interactsoc open saintal recogn autist deviant behavior long diagnosi take account interact comput one saintal interact cross road emot cognit systemat review one al home video detect may help studi interact becom autiste ibap induct one level decis machin learn')]"
            ]
          },
          "metadata": {},
          "execution_count": 34
        }
      ]
    },
    {
      "cell_type": "code",
      "source": [
        "query='What are methods to detect Autism from home videos'\n",
        "user_input(text_preprocessing(query))"
      ],
      "metadata": {
        "colab": {
          "base_uri": "https://localhost:8080/"
        },
        "id": "mZvPszvZfNaY",
        "outputId": "45f2921a-f707-48e0-d704-3535cad6fb3f"
      },
      "execution_count": null,
      "outputs": [
        {
          "output_type": "stream",
          "name": "stdout",
          "text": [
            "{'output_text': 'The study moves beyond verbal descriptions and employs video examples to reduce subject interpretation. Use of videos has shown a dramatic increase in clarity in fields such as music instruction and motor vehicle repair. Recent videos have been incorporated into ASD screening to reduce discrepancies in interpretation of items and provide information common to naturalist standard comparisons.'}\n"
          ]
        }
      ]
    },
    {
      "cell_type": "markdown",
      "source": [
        "Query11"
      ],
      "metadata": {
        "id": "JOHElx25I39o"
      }
    },
    {
      "cell_type": "code",
      "source": [
        "new_db.similarity_search('What is Still-Face Paradigm in Early Screening for High-Risk Autism Spectrum Disorder',k=5)"
      ],
      "metadata": {
        "colab": {
          "base_uri": "https://localhost:8080/"
        },
        "id": "73S3jyezI5vn",
        "outputId": "1909a35f-1e50-4e1b-c467-2b4e2637a162"
      },
      "execution_count": null,
      "outputs": [
        {
          "output_type": "execute_result",
          "data": {
            "text/plain": [
              "[Document(page_content='research machin learn approach earli detect autism combin questionnair home video screen abba gloveralto ca pediatr univers ca data scienc univers ca correspond alto ca receiv march editori decis march accept abstract background screen earli detect autism expens cumbersom time intens sometim fall short predict valu work sought appli machin learn clinic data across risk autism spectrum disord creat alow cost quick easi appli autism screen tool two train identifi autism one base short structur parent key short semi structur home binat algorithm use combin singl assess higher accuraci come scarciti sparsiti imbal train data appli novel featur select featur allow inconclus determin appropri boost screen accuraci conclus perform center clinic studiascertain perform combin demonstr cant accuraci improv standard screen ing sensit citi conclus suggest mobil machin learn process reliabl method detect autism outsid clinic varieti confound clinic analysi final statist limit bene fu clinic extend'),\n",
              " Document(page_content='omksolokkqkkgw wo omstz yoq owyo omqq st ow zovzlomqstzzw omzo owzmovmoomkq owstsow mokk molqkzq yokwzoomyouowl soy yonz om wozow lo sokz zoqk lozwzqzzzqnzkqq sotz stfzzkzwowozwk wozwzzwowwkwz wow zo mo wowozwkwwkkk wowk wowwowozw omyouowqqkomowknjow wokrgzj woz omowkwojom sok owowfj omkqom wonlqnkwonkk owzkq ortow yoqowzjfgofwwwozzz om jokgn frok om wo noykzlozomq owzlstzwz omnfkrwoqomz wokom joznz wo owkomyouq zorw zoufq wo mowzzqqqwwqom zonn owzjkz owvyof jojlzk omwrqk omznulq omrlllzzq jowr jowllzgkkfzkg zonkwk jog zonkwqwgzozzq owjowkqlv kylww jo omr silolkqlwbzzolgon zokn zo om omyouzn zost lokwom fun mon om zo zockkzokkwn omyou research june pediatr june volum articl lori canada correspond receiv accept citat risk front still face paradigm earli screen high risk autism spectrum disord china medic engin chinachin china background although autism spectrum disord current di age age diagnosi still en later order earli recent method still face paradigm adopt measur durat non social'),\n",
              " Document(page_content='respect figur pediatr june volum articl al earli screen high risk tabl comparison gener group group mean group group valun sex male femal age adapt gross motor fine motor languag person social high risk autism spectrum disord typic develop dev diagnost evalu group age age group autism diagnosi interviewr clinic base diagnost criteria group cut diagnosi analyt approach di group group social determin independ test social group age symptom sever rho final earli screen machin learn base group group group con met would use veriearli screencant comparison gener group group age adapt languag ne motor person social dip see comparison social differ episod statist cant di durat frequenc eye contact group group di length frequenc non social smile protest enseeepisod statist cant di durat frequenc eye contact activ social engag group group di length frequenc non social smile protest social smilegroup group statist cant see analysi correl social factor differ group frequenc eye contact posit'),\n",
              " Document(page_content='longitudin studi elev lower risk autism spectrum disord older sibl known famili histori autism video infant rate system autism web base applic togeth forc choic video similar child rate rate age split half test retest reliabl converg discrimin valid sensit specif neg posit predict valu concurr month diagnos satisfactori reliabl converg discrimin valid significantli lower ultim typic develop age age well studi initi step develop novel video base approach detect infanc psychometr promis use older affect child still must test commun famili histori replic low burden web base format potenti reduc limit access screen autism screen infanc social develop correspond salli mind institut health street ca public access author manuscriptchild psychiatri author manuscript avail final formchild psychiatri author manuscript author manuscript author manuscript author development cours autism spectrum disord onset first three life later receiv diagnosi typic develop emerg second birthday gammer al al'),\n",
              " Document(page_content='diagnosi still en later order earli recent method still face paradigm adopt measur durat non social smile protest behavior eye act social smile activ social engag high risk group typic de groupn group follow old con diagnosi machin learn use establish earli screen face face interact episod statist cant durateye contact social smile face episod statist cant durat frequenc eye contact activ social engag twop group meet criterion group accuraci support vector machin cation episod conclus use social behavior indic child screen mode use home trial registr clinic trial registri high risk autism spectrum disord stillace paradigm social behavior machin learn model earli al earli screen high risk introduct autism spectrum disord seriou disord earli childhood repetit stereotyp percept recent epidemiolog survey data incid preval rate increas china larg number shown earli intervent improv patient prognosi howev age diagnosi still even later therefor earli detect earli diagnosiintervent essenti')]"
            ]
          },
          "metadata": {},
          "execution_count": 35
        }
      ]
    },
    {
      "cell_type": "code",
      "source": [
        "query='What is Still-Face Paradigm in Early Screening for High-Risk Autism Spectrum Disorder'\n",
        "user_input(text_preprocessing(query))"
      ],
      "metadata": {
        "colab": {
          "base_uri": "https://localhost:8080/"
        },
        "id": "jJmqMGtffNYC",
        "outputId": "9e220f3c-347d-4e79-bd01-1f28953a6ecf"
      },
      "execution_count": null,
      "outputs": [
        {
          "output_type": "stream",
          "name": "stdout",
          "text": [
            "{'output_text': \"The still face paradigm (SFP) is a behavioral observation method used to assess infant emotion regulation and social expectations in social interactions. It involves three episodes: a baseline episode, a face-to-face interaction episode, and a reunion episode. During the face-to-face interaction episode, the mother is required to present a neutral expression without any response to the child's actions. This causes the child to experience a disruption in social signals, which can lead to the appearance of negative emotions. The SFP has been used in research to study the social and emotional development of infants and children, including those at high risk for autism spectrum disorder (ASD).\"}\n"
          ]
        }
      ]
    },
    {
      "cell_type": "markdown",
      "source": [
        "Query12"
      ],
      "metadata": {
        "id": "TTKPkojxI6nZ"
      }
    },
    {
      "cell_type": "code",
      "source": [
        "new_db.similarity_search('What is West Syndrome?',k=5)"
      ],
      "metadata": {
        "colab": {
          "base_uri": "https://localhost:8080/"
        },
        "id": "p9NZeN1XI6SP",
        "outputId": "52b2bb88-d13c-4987-9b4e-43e12bf3e0a5"
      },
      "execution_count": null,
      "outputs": [
        {
          "output_type": "execute_result",
          "data": {
            "text/plain": [
              "[Document(page_content='omksolokkqkkgw wo omstz yoq owyo omqq st ow zovzlomqstzzw omzo owzmovmoomkq owstsow mokk molqkzq yokwzoomyouowl soy yonz om wozow lo sokz zoqk lozwzqzzzqnzkqq sotz stfzzkzwowozwk wozwzzwowwkwz wow zo mo wowozwkwwkkk wowk wowwowozw omyouowqqkomowknjow wokrgzj woz omowkwojom sok owowfj omkqom wonlqnkwonkk owzkq ortow yoqowzjfgofwwwozzz om jokgn frok om wo noykzlozomq owzlstzwz omnfkrwoqomz wokom joznz wo owkomyouq zorw zoufq wo mowzzqqqwwqom zonn owzjkz owvyof jojlzk omwrqk omznulq omrlllzzq jowr jowllzgkkfzkg zonkwk jog zonkwqwgzozzq owjowkqlv kylww jo omr silolkqlwbzzolgon zokn zo om omyouzn zost lokwom fun mon om zo zockkzokkwn omyou research june pediatr june volum articl lori canada correspond receiv accept citat risk front still face paradigm earli screen high risk autism spectrum disord china medic engin chinachin china background although autism spectrum disord current di age age diagnosi still en later order earli recent method still face paradigm adopt measur durat non social'),\n",
              " Document(page_content='zokqomyouqkkzkqqst soy owzsoyqq mokzqzkrz moowmonk stklw yonkqkzoqzwwkzomk omomj omlk styo omjfyononkkzkkzo yoff wozfzk nonzzlzkzfk om omyou ortzjzjlo omq ort nonkjzjkqmokfzjsotl ortzjkqlokzkstk omomj omomzjomllolozzzzkq yonzqwkqlzjkzzzjom omyouzqmon yokyonomqkkqfqkqzo lomoz wofst styon lo loql yowkstmoq monkjzjqz omknomlwok omk yolksolozfk omzzom om om omyoukzfkkkkkk omlo sokj sokfomomqz yo owkomnkk omkf stkkjzz sokzjzzqjzjk omomstkowq omwoqqqqq mostyon lo loq moqzzkkzomyouqz oskqq loloq stkst nonom owstqqz yo soyqqqqz omqmo frokfzfwfzjzjzjzzfwfjfwzzjomwwwom om omk omyoullz ow yoksokvfzffzfqjzjqkqom owk mowoqzjj yok sownowfqklzfzwzzqzqzk owstfzfqwqwflomqkkq sotksotkz sokkfkjk soksokq zoqzoj om om om om om om om om om om om om om om omjom om om om om om om om om om om om om om omzjom om om om om om om om om om om om om om omfk om omyoumo yozz zozok wok yokz stkf io om owk yok omksolokkqkkgw wo omstz yoq owyo omqq st ow zovzlomqstzzw omzo owzmovmoomkq owstsow mokk molqkzq'),\n",
              " Document(page_content='zokfkqzstnkkowlqwlk wo owkstkkz stkkzzkstkjkstk owk om yokvom owklo owkzzzzkkk stzkkkzq stqjqkjkzkzst solozv yozqzkzgfjjvkjj ow zonjowyon stlokzo stk omk lolk owl stq zo owowq sot omk soyfn owq om zo omkjowz loolqksotqzlo zo owl sokkzo ownk zo owz sotom non wo zo ow sot owomzfloz ststqkk sokzqz zo owksokqkjjzkl ow zo owfzo owk soynoykzj soyzsotwj yost soyqk mokk stkkkq yoy lostsow stq sotsotkqwq stz sonkz mozkzokoskzlzwwzkzzzozokoswzjwkkyok jo omzoz om om yozfw zokz omlgnjjlwoomkjcvk omzwok omvyokq sok yowokow wowoy wok wokz yozoomnyofzkzwqwoom jozlowqkzzowo wojowfi zonfzznkkwon yokzom joulq omrlzom wo wozlol stwf zoz ut wo nizozzkzok ow yokgq lonqomomnu goql logko owq omomwjzwogzbksookqnzznz jowgozzzo zowz jozqjnv jokkn woozo jozowqnk sotu omk omnmouczz loomqomkzwmomojutkqqn omk ow yowvgzuf omzwwyst wokfzzlrkkquzn om quoqzzvf omzogzozksowwq mowfnnwomzmozwqwukr wozzzjoz yoomwjzkw goowcz own zokwzqkwzmozfwiq moomq momowfk ow yokf omjogvwkzomkwj moqgfkwozz jo omfkrq morz zozz mo mo'),\n",
              " Document(page_content='om owzzow yov omyouzk yozlonz ststk owyokownkomyo st mon mo mokk yoqzsoykkkomqst owkz owwqwstk omzoqmomo sonk omyoq mozk omkzzorn wok ow ow wo owkwon woln wozk omkkwok wo ow yokz tytkzqstvzwoowkkqwo own wo omkk omk om nonzzqvkyonzk wokkwzq yonkzkqw om owomyouqn wojkwkzn wol zoyonkzq stwlkjomomg zoom owfyonwo omkkzqk owzzq soyqzw om owfn wolzfzjwkkyonnkwowzwk omqkyokz soyqwom owstomkzwozzkkqfkowzkkzkkqzom owom owq stomkzwozzkkqfkowzkkzkqzwq om owom owq omyouq yokkzowzyoksotksotyoq soymo lownowzfqzksot omyokqkomomkkk loomkb lo omloq omqkz stwsoysotqkzq moq sot owkst sokkq soyzwom om om omyouzkzqnoykq oml lolo yoqqkql zoqkommoz owzkjzqwqwkk wo owzo moq omzk woqomz omqnl zozwqyokkk sortz sownzz ommozjnwozwowowowon won wozzokwozz om omyoukomzl omkw wok owwonzoq lokloz lo soyqomzqk yolqn mon omkqstk woz mon yokzzkknzlozkzqzlqk omsoyzzozsoyzkwqlomqqknonk sonzzqkk mokmonz yokqkzstk owkkqqstwoqzzkyonzosokzsonkqz zokqomyouqkkzkqqst soy owzsoyqq mokzqzkrz moowmonk stklw yonkqkzoqzwwkzomk omomj'),\n",
              " Document(page_content='unit data brief vol correspond author wang order articl pleas visit contact us autismwyzokoswos os zorwoskkqwzkqomjmonwnjkfqk sotkowk loom non om zokzyomo sokkfjo owlz sonkwjzkl om ow yokw om owzqz yol noyk loqqqkk loklwsokfnf omjl sot owzkrknzq one open accessznzkw omzfu loson woo zo omk moqzz sonststk stqfzzz yontmoomfsotstzyokk son yoznfqqwkwowfwkzklomow yoq zoonrz omr monwowsowtwl wofzk zofkwokz zoon zo mof yoff sotkmoqlnqwokksokz mowkkzkqqowwglozqw omqn zofk zo omkwjomzo sotyokqkw yokwqk owkmokkgloj jo owowkwjzzfkkj om owkqzqkkkqkqwnzkq sokkz yonon nonnj lowzfz stqq owkowk omwo owzkkjfzfk soloznqkjyovzkstn sokomzo wozkw sonkqz lostnz monk yonfqomjstlol zofk owznqvq sokzj stzkzkyok yoyoknjlojstk omfloqkzjstqkzzwokq sok omstkyonkkk yonq nonk lorjr omkqwklnz owsowwjkwjzo soyz sortzqkwjzo owzzzzzkowqkkflok monf omflkklzfkk ow yonkzzzjqzsot yo zowq om sotjnz om ownz om owk zozlkkomkfsoyqz om owqnz omzom ow omom zozoow zokjq omkqnoykuwsowq om yokkwoq wofkjrqkom omrfwstllozfjom owzzqjk')]"
            ]
          },
          "metadata": {},
          "execution_count": 36
        }
      ]
    },
    {
      "cell_type": "code",
      "source": [
        "query='What is West Syndrome?'\n",
        "user_input(text_preprocessing(query))"
      ],
      "metadata": {
        "colab": {
          "base_uri": "https://localhost:8080/"
        },
        "id": "rS33O0h6fNVU",
        "outputId": "59741ebe-8ce7-4c03-bb5f-4959be6a411b"
      },
      "execution_count": null,
      "outputs": [
        {
          "output_type": "stream",
          "name": "stdout",
          "text": [
            "{'output_text': 'West syndrome (WS) is a rare epileptic encephalopathy with early onset before age 1 year and a high risk of neurodevelopmental disorders (NDD) outcomes, including one third of WS children showing later autism spectrum disorder (ASD) and/or intellectual disability (ID).'}\n"
          ]
        }
      ]
    },
    {
      "cell_type": "markdown",
      "source": [
        "Query13"
      ],
      "metadata": {
        "id": "dwp-OTS7I7-I"
      }
    },
    {
      "cell_type": "code",
      "source": [
        "new_db.similarity_search('What is the utility of Behavior and interaction imaging at 9 months of age predict autism/intellectual disability in high-risk infants with West syndrome',k=5)"
      ],
      "metadata": {
        "colab": {
          "base_uri": "https://localhost:8080/"
        },
        "id": "4yUApPklI9Bo",
        "outputId": "ec8f12f3-1196-4a0a-e6d8-c83d44b5bdf4"
      },
      "execution_count": null,
      "outputs": [
        {
          "output_type": "execute_result",
          "data": {
            "text/plain": [
              "[Document(page_content='mother infant interact affectal development hand typic risk development observ studi year life frontal take account infant engag emot earli may help determin risk autism intellectu disabl west syndrom child psychiatribrunetr vi de de la premier lordrutter autism diagnost interview version diagnost interview pervas devautism devrrk toward object cation childhood autism childhood autism rate scaleautism devbcolor base particl joint detect multipl acoust speech signal pa huede mont pour non lin air un bruit laneunehe de blake condens condit densiti propag visualvicfknbeneellverecognit technolog method spontan high risk front al dynam non verbal father infant interact affectal linguist employ complex commun engag social repair interactsoc open saintal recogn autist deviant behavior long diagnosi take account interact comput one saintal interact cross road emot cognit systemat review one al home video detect may help studi interact becom autiste ibap induct one level decis machin learn'),\n",
              " Document(page_content='depart denecker rue de al translat psychiatri page interest declar con interest publish note springer natur remain neutral regard jurisdict institut supplementari inform paper receiv accept al distinguish se hetero stress behavior prog psychiatrial interact behaviour novel method measur mother infant interact video reconstruct psychiatrinehhhcnfefacial express infant mother interact pilot studi infanc wanal parent infant interact ion infant risk autism devgre tauen tie year life pilot studi infant start parent intervent symptomatautism devn earli cation autism spectrum brainparent infant synchroni construct time physiolog development riskchild psychiatrial interperson synchroni survey evalu across affectsocial signal survey domain imag vib crownl dialogu infanc ted time develop soc child dev al prosodi involv facilit social interact later develop autism onejhead movement dynam play perturb mother infant interact affectal development hand typic risk development observ studi year life'),\n",
              " Document(page_content='interact autism spectrum disord convolut neural network robot reason model statist shape model research child robot interact provid necessari interact child devic take account fundament child physic condit child mental health robot rat interest intervent faster signific gain therapeut intervent tradit disord peopl birth found earli es ram feder period suffer exhibit persist social commun social interact repetit behavior may age although reliabl diagnosi age accord accord use comput vision analyz child video summar help reduc delay diagnosi provid access earli therapeut addit base intervent transform tradit diagnosi devic systemat elicit child exhibit first assist make diagnosi base primarili open loop remot howev unabl perform autonom feedback enhanc interact content courtesi springer natur use appli reserv nevertheless differ abl modifi behavior robot accord environment child respons close loop artifici cognit offer technolog support flexibl potenti naturalist interact fact literatur'),\n",
              " Document(page_content='speech turn infant mother interact develop sever moder id age high risk confus matric cation random interest method addit infant cant versu probabl motor impact due acut encephalopathi contribut infant audio synchroni much sever believ import synchroni reciproc earli line risk year life homeg prospect follow high riskfuhalggeeref prospect screen risk autismg ref eld synchroni reciproc parent sensit emot engag could prevent earli inter activ viciou es risk tri compens lack interact child stimul thereforrcation interact especi use among neurolog development earli social predict similarli believ import distinguish one hand hand also line import non social investig risk year life exampl home al found bilater later develop similarli sever prospect follow high risk retrospect homemotor atyp repertoir earli social previous assess comput eye earli vocal pro analysi acoust cri none done interact set studi paradigm shift infant behavior dyadic assess retrospect aim implement social signal'),\n",
              " Document(page_content='multimod social interact synchroni could predict autism spectrum disord id follow id best machin learn accuraci accuraci best distinguish includ combin infant combin synchroni vocal data indic behavior interact abl predict id high risk introduct behavior interact promis domain affect ore psychiatr regard child psychiatri mani identifi reliabl mental high riskg sib autism year life recommend earli howev social cult identifi young addit explor qualiti dynam earli complex endeavor percept integr social understand synchron proceed turn take affect possibl analyz interact sever multimod natur dynam date semin appli social signal mother infant withoutcondit speech turng al head hand movement facial west syndrom rare encephalopathi earli onset age year high risk one third show later autism spectrum disord intellectu disabl id typic particip standard earli mother infant author open access articl licens creativ common attribut licens use adapt distribut reproduct medium format long give')]"
            ]
          },
          "metadata": {},
          "execution_count": 37
        }
      ]
    },
    {
      "cell_type": "code",
      "source": [
        "query='What is the utility of Behavior and interaction imaging at 9 months of age predict autism/intellectual disability in high-risk infants with West syndrome'\n",
        "user_input(text_preprocessing(query))"
      ],
      "metadata": {
        "colab": {
          "base_uri": "https://localhost:8080/"
        },
        "id": "_AxS35JYfycr",
        "outputId": "b1667699-169f-4140-f27c-01a85278a66e"
      },
      "execution_count": null,
      "outputs": [
        {
          "output_type": "stream",
          "name": "stdout",
          "text": [
            "{'output_text': 'Yes, the study found that multi-modal social signal interaction and synchrony in infant-mother interaction at 9 months of age could predict the outcome of autism spectrum disorder (ASD) and intellectual disability (ID) in high-risk infants with West syndrome (WS).'}\n"
          ]
        }
      ]
    }
  ]
}